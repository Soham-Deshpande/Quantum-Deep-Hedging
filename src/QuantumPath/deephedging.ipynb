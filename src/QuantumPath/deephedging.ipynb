{
 "cells": [
  {
   "cell_type": "markdown",
   "metadata": {},
   "source": [
    "## Creating a deep hedging engine\n",
    "### Idea: Use quantum NNs to create an optimal hedge"
   ]
  },
  {
   "cell_type": "markdown",
   "metadata": {},
   "source": [
    "Ignore liquidity constraints\n",
    "\n",
    "Hedger Inputs:\n",
    "- Stock price paths\n",
    "- Assume you buy x amount of Eurexx50 options expiring at a certain time \n",
    "- Transaction cost\n",
    "\n",
    "Hedger Engine:\n",
    "- Simulate path to maturity and see the optimal time to hedge\n",
    "\n",
    "Hedger Output:\n",
    "- Optimal hedging time\n",
    "- Cost associated"
   ]
  },
  {
   "cell_type": "code",
   "execution_count": null,
   "metadata": {
    "vscode": {
     "languageId": "plaintext"
    }
   },
   "outputs": [],
   "source": []
  }
 ],
 "metadata": {
  "language_info": {
   "name": "python"
  }
 },
 "nbformat": 4,
 "nbformat_minor": 2
}
