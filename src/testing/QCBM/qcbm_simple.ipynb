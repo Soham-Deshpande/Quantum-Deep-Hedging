{
 "cells": [
  {
   "cell_type": "markdown",
   "metadata": {},
   "source": [
    "Simple QCBM to test individual components"
   ]
  },
  {
   "cell_type": "code",
   "execution_count": 812,
   "metadata": {},
   "outputs": [],
   "source": [
    "import numpy as np\n",
    "import matplotlib.pyplot as plt\n",
    "# AWS imports: Import Braket SDK modules\n",
    "from braket.circuits import Circuit, FreeParameter, Gate, Observable\n",
    "from braket.devices import LocalSimulator\n",
    "import pandas as pd\n",
    "import os"
   ]
  },
  {
   "cell_type": "code",
   "execution_count": 813,
   "metadata": {},
   "outputs": [],
   "source": [
    "device = LocalSimulator()"
   ]
  },
  {
   "cell_type": "code",
   "execution_count": 814,
   "metadata": {},
   "outputs": [
    {
     "name": "stdout",
     "output_type": "stream",
     "text": [
      "T  : │      0      │      1      │  2  │  3  │      4      │      5      │      6      │  7  │  8  │      9      │     10      │\n",
      "      ┌───────────┐ ┌───────────┐       ┌───┐ ┌───────────┐ ┌───────────┐ ┌───────────┐ ┌───┐       ┌───────────┐ ┌───────────┐ \n",
      "q0 : ─┤ Rx(t_0_0) ├─┤ Rz(t_1_0) ├───●───┤ X ├─┤ Rz(t_2_0) ├─┤ Rx(t_3_0) ├─┤ Rz(t_4_0) ├─┤ X ├───●───┤ Rz(t_5_0) ├─┤ Rx(t_6_0) ├─\n",
      "      └───────────┘ └───────────┘   │   └─┬─┘ └───────────┘ └───────────┘ └───────────┘ └─┬─┘   │   └───────────┘ └───────────┘ \n",
      "      ┌───────────┐ ┌───────────┐ ┌─┴─┐   │   ┌───────────┐ ┌───────────┐ ┌───────────┐   │   ┌─┴─┐ ┌───────────┐ ┌───────────┐ \n",
      "q1 : ─┤ Rx(t_0_1) ├─┤ Rz(t_1_1) ├─┤ X ├───●───┤ Rz(t_2_1) ├─┤ Rx(t_3_1) ├─┤ Rz(t_4_1) ├───●───┤ X ├─┤ Rz(t_5_1) ├─┤ Rx(t_6_1) ├─\n",
      "      └───────────┘ └───────────┘ └───┘       └───────────┘ └───────────┘ └───────────┘       └───┘ └───────────┘ └───────────┘ \n",
      "T  : │      0      │      1      │  2  │  3  │      4      │      5      │      6      │  7  │  8  │      9      │     10      │\n",
      "\n",
      "Unassigned parameters: [t_0_0, t_0_1, t_1_0, t_1_1, t_2_0, t_2_1, t_3_0, t_3_1, t_4_0, t_4_1, t_5_0, t_5_1, t_6_0, t_6_1].\n"
     ]
    }
   ],
   "source": [
    "# Construct the PQC (parameterized quantum circuit) ansatz for the Quantum Circuit Born Machine (QCBM)\n",
    "qcbm = Circuit()\n",
    "wires = 2 # number of wires corresponding to the bit precision required for the data, here 12 bits\n",
    "depth = 7  # number of parametrised 1-qubit gate layers\n",
    "theta = [[FreeParameter(\"t_%s_%s\" % (l,q)) for q in range(wires)] for l in range(depth)]\n",
    "# free parameters (angles) are labelled t_i_j, where i is the layer of the circuit and j the wire\n",
    "\n",
    "for q in range(wires):\n",
    "    qcbm.rx(q,theta[0][q])  # layer of rx gates with unspecified parameters\n",
    "    qcbm.rz(q,theta[1][q])  # layer of rz gates with unspecified parameters\n",
    "\n",
    "for q in range(wires//2):       ## layer of interlinked cnot gates for entanglement\n",
    "    qcbm.cnot(control=2*q,target=(2*q+1)%wires)\n",
    "for q in range(wires//2):\n",
    "    qcbm.cnot(control=2*q+1,target=(2*(q+1))%wires)\n",
    "\n",
    "for q in range(wires):\n",
    "    qcbm.rz(q,theta[2][q]) # layer of rx gates with unspecified parameters\n",
    "    qcbm.rx(q,theta[3][q]) # layer of rz gates with unspecified parameters\n",
    "    qcbm.rz(q,theta[4][q]) # layer of rx gates with unspecified parameters\n",
    "\n",
    "for q in range(wires//2):       ## layer of interlinked cnot gates for entanglement\n",
    "    qcbm.cnot(control=wires-1-2*q,target=(wires-2*q)%wires)\n",
    "for q in range(wires//2):\n",
    "    qcbm.cnot(control=wires-2-2*q,target=wires-1-2*q)\n",
    "\n",
    "for q in range(wires):\n",
    "    qcbm.rz(q,theta[5][q])  # layer of rz gates with unspecified parameters\n",
    "    qcbm.rx(q,theta[6][q])  # layer of rx gates with unspecified parameters\n",
    "\n",
    "print(qcbm)"
   ]
  },
  {
   "cell_type": "code",
   "execution_count": 815,
   "metadata": {},
   "outputs": [],
   "source": [
    "\n",
    "# Prepare dictionary from parameter values theta that can serve as input for the parameterized quantum circuit of the QCBM\n",
    "def thetas_to_dict(thetas):\n",
    "    wires, depth = thetas.shape\n",
    "    theta_dict = {}\n",
    "    for i in range(depth):\n",
    "        for j in range(wires):\n",
    "            t_str = 't_' + str(i) + '_' + str(j)\n",
    "            theta_dict[t_str] = thetas[j][i]\n",
    "    return theta_dict"
   ]
  },
  {
   "cell_type": "code",
   "execution_count": 816,
   "metadata": {},
   "outputs": [],
   "source": [
    "pi = np.pi\n",
    "\n",
    "thetas = [0,0,0,pi/2,0,0,0,0]\n",
    "\n",
    "\n",
    "def csv_writer(thetas):\n",
    "    with open('githubtest.csv', 'w') as f:\n",
    "        for i in range(7):\n",
    "            for j in thetas:\n",
    "                    f.write(str(j) + ',')\n",
    "            f.write('\\n')\n",
    "\n",
    "\n",
    "\n",
    "csv_writer(thetas)\n",
    "\n",
    "\n"
   ]
  },
  {
   "cell_type": "code",
   "execution_count": 817,
   "metadata": {},
   "outputs": [
    {
     "name": "stdout",
     "output_type": "stream",
     "text": [
      "thetas_dict: {'t_0_0': 0.0, 't_0_1': 0.0, 't_0_2': 0.0, 't_0_3': 0.0, 't_0_4': 0.0, 't_0_5': 0.0, 't_0_6': 0.0, 't_1_0': 0.0, 't_1_1': 0.0, 't_1_2': 0.0, 't_1_3': 0.0, 't_1_4': 0.0, 't_1_5': 0.0, 't_1_6': 0.0, 't_2_0': 0.0, 't_2_1': 0.0, 't_2_2': 0.0, 't_2_3': 0.0, 't_2_4': 0.0, 't_2_5': 0.0, 't_2_6': 0.0, 't_3_0': 1.5707963267948966, 't_3_1': 1.5707963267948966, 't_3_2': 1.5707963267948966, 't_3_3': 1.5707963267948966, 't_3_4': 1.5707963267948966, 't_3_5': 1.5707963267948966, 't_3_6': 1.5707963267948966, 't_4_0': 0.0, 't_4_1': 0.0, 't_4_2': 0.0, 't_4_3': 0.0, 't_4_4': 0.0, 't_4_5': 0.0, 't_4_6': 0.0, 't_5_0': 0.0, 't_5_1': 0.0, 't_5_2': 0.0, 't_5_3': 0.0, 't_5_4': 0.0, 't_5_5': 0.0, 't_5_6': 0.0, 't_6_0': 0.0, 't_6_1': 0.0, 't_6_2': 0.0, 't_6_3': 0.0, 't_6_4': 0.0, 't_6_5': 0.0, 't_6_6': 0.0, 't_7_0': 0.0, 't_7_1': 0.0, 't_7_2': 0.0, 't_7_3': 0.0, 't_7_4': 0.0, 't_7_5': 0.0, 't_7_6': 0.0, 't_8_0': nan, 't_8_1': nan, 't_8_2': nan, 't_8_3': nan, 't_8_4': nan, 't_8_5': nan, 't_8_6': nan}\n",
      "measurements: [[0 0]\n",
      " [1 1]\n",
      " [1 0]\n",
      " ...\n",
      " [0 1]\n",
      " [1 1]\n",
      " [1 0]]\n",
      "result: GateModelQuantumTaskResult(task_metadata=TaskMetadata(braketSchemaHeader=BraketSchemaHeader(name='braket.task_result.task_metadata', version='1'), id='8294cabe-c006-427e-af92-5166f73b58e4', shots=1000, deviceId='braket_sv', deviceParameters=None, createdAt=None, endedAt=None, status=None, failureReason=None), additional_metadata=AdditionalMetadata(action=Program(braketSchemaHeader=BraketSchemaHeader(name='braket.ir.openqasm.program', version='1'), source='OPENQASM 3.0;\\ninput float t_3_0;\\ninput float t_3_1;\\ninput float t_5_1;\\ninput float t_0_0;\\ninput float t_0_1;\\ninput float t_2_0;\\ninput float t_2_1;\\ninput float t_4_0;\\ninput float t_4_1;\\ninput float t_6_0;\\ninput float t_6_1;\\ninput float t_1_1;\\ninput float t_5_0;\\ninput float t_1_0;\\nbit[2] b;\\nqubit[2] q;\\nrx(t_0_0) q[0];\\nrz(t_1_0) q[0];\\nrx(t_0_1) q[1];\\nrz(t_1_1) q[1];\\ncnot q[0], q[1];\\ncnot q[1], q[0];\\nrz(t_2_0) q[0];\\nrx(t_3_0) q[0];\\nrz(t_4_0) q[0];\\nrz(t_2_1) q[1];\\nrx(t_3_1) q[1];\\nrz(t_4_1) q[1];\\ncnot q[1], q[0];\\ncnot q[0], q[1];\\nrz(t_5_0) q[0];\\nrx(t_6_0) q[0];\\nrz(t_5_1) q[1];\\nrx(t_6_1) q[1];\\nb[0] = measure q[0];\\nb[1] = measure q[1];', inputs={'t_0_0': 0.0, 't_0_1': 0.0, 't_0_2': 0.0, 't_0_3': 0.0, 't_0_4': 0.0, 't_0_5': 0.0, 't_0_6': 0.0, 't_1_0': 0.0, 't_1_1': 0.0, 't_1_2': 0.0, 't_1_3': 0.0, 't_1_4': 0.0, 't_1_5': 0.0, 't_1_6': 0.0, 't_2_0': 0.0, 't_2_1': 0.0, 't_2_2': 0.0, 't_2_3': 0.0, 't_2_4': 0.0, 't_2_5': 0.0, 't_2_6': 0.0, 't_3_0': 1.5707963267948966, 't_3_1': 1.5707963267948966, 't_3_2': 1.5707963267948966, 't_3_3': 1.5707963267948966, 't_3_4': 1.5707963267948966, 't_3_5': 1.5707963267948966, 't_3_6': 1.5707963267948966, 't_4_0': 0.0, 't_4_1': 0.0, 't_4_2': 0.0, 't_4_3': 0.0, 't_4_4': 0.0, 't_4_5': 0.0, 't_4_6': 0.0, 't_5_0': 0.0, 't_5_1': 0.0, 't_5_2': 0.0, 't_5_3': 0.0, 't_5_4': 0.0, 't_5_5': 0.0, 't_5_6': 0.0, 't_6_0': 0.0, 't_6_1': 0.0, 't_6_2': 0.0, 't_6_3': 0.0, 't_6_4': 0.0, 't_6_5': 0.0, 't_6_6': 0.0, 't_7_0': 0.0, 't_7_1': 0.0, 't_7_2': 0.0, 't_7_3': 0.0, 't_7_4': 0.0, 't_7_5': 0.0, 't_7_6': 0.0, 't_8_0': nan, 't_8_1': nan, 't_8_2': nan, 't_8_3': nan, 't_8_4': nan, 't_8_5': nan, 't_8_6': nan}), dwaveMetadata=None, ionqMetadata=None, rigettiMetadata=None, oqcMetadata=None, xanaduMetadata=None, queraMetadata=None, simulatorMetadata=None, iqmMetadata=None), result_types=[], values=[], measurements=array([[0, 0],\n",
      "       [1, 1],\n",
      "       [1, 0],\n",
      "       ...,\n",
      "       [0, 1],\n",
      "       [1, 1],\n",
      "       [1, 0]]), measured_qubits=[0, 1], measurement_counts=Counter({'01': 253, '10': 250, '00': 249, '11': 248}), measurement_probabilities={'00': 0.249, '11': 0.248, '10': 0.25, '01': 0.253}, measurements_copied_from_device=True, measurement_counts_copied_from_device=False, measurement_probabilities_copied_from_device=False, _result_types_indices={})\n"
     ]
    }
   ],
   "source": [
    "K = 1000\n",
    "\n",
    "thetas_opt = np.genfromtxt(\"githubtest.csv\",delimiter=\",\")\n",
    "thetas_dict = [thetas_opt]\n",
    "for thetas in thetas_dict:\n",
    "    thetas_dict = thetas_to_dict(thetas)\n",
    "    print(f'thetas_dict: {thetas_dict}')\n",
    "    task = device.run(qcbm,shots=K,inputs=thetas_dict)   # Here the quantum circuit is executed, incurring cost\n",
    "    result = task.result()                               # get results of the measurements\n",
    "    counts = result.measurement_counts\n",
    "    measurements = result.measurements\n",
    "    print(f'measurements: {measurements}')\n",
    "    print(f'result: {result}')   "
   ]
  },
  {
   "cell_type": "code",
   "execution_count": 818,
   "metadata": {},
   "outputs": [
    {
     "name": "stdout",
     "output_type": "stream",
     "text": [
      "Probabilities: {'00': 0.249, '11': 0.248, '10': 0.25, '01': 0.253}\n",
      "Counts: Counter({'01': 253, '10': 250, '00': 249, '11': 248})\n"
     ]
    },
    {
     "data": {
      "text/plain": [
       "<BarContainer object of 4 artists>"
      ]
     },
     "execution_count": 818,
     "metadata": {},
     "output_type": "execute_result"
    },
    {
     "data": {
      "image/png": "[encoded data removed]",
      "text/plain": [
       "<Figure size 640x480 with 1 Axes>"
      ]
     },
     "metadata": {},
     "output_type": "display_data"
    }
   ],
   "source": [
    "print(f'Probabilities: {result.measurement_probabilities}')\n",
    "print(f'Counts: {result.measurement_counts}')\n",
    "\n",
    "# plot histogram of probabilities\n",
    "plt.bar(result.measurement_probabilities.keys(), result.measurement_probabilities.values())"
   ]
  }
 ],
 "metadata": {
  "kernelspec": {
   "display_name": "base",
   "language": "python",
   "name": "python3"
  },
  "language_info": {
   "codemirror_mode": {
    "name": "ipython",
    "version": 3
   },
   "file_extension": ".py",
   "mimetype": "text/x-python",
   "name": "python",
   "nbconvert_exporter": "python",
   "pygments_lexer": "ipython3",
   "version": "3.12.4"
  }
 },
 "nbformat": 4,
 "nbformat_minor": 2
}
