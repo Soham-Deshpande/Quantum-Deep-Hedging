{
 "cells": [
  {
   "cell_type": "markdown",
   "metadata": {},
   "source": [
    "# Testing QCBM concept 1\n",
    "\n",
    "The rationale behind this test is to split a time-series dataset of numbers from 1-10 into 10 subsections, a QCBM will be responsible for learning the distribution of each subset. By sampling each synthetic distribution, we can see if the original distribution is learnt to an acceptable degree"
   ]
  },
  {
   "cell_type": "code",
   "execution_count": 122,
   "metadata": {},
   "outputs": [],
   "source": [
    "import numpy as np\n",
    "import matplotlib.pyplot as plt\n",
    "from braket.circuits import Circuit, FreeParameter, Gate, Observable\n",
    "from braket.devices import LocalSimulator\n",
    "import pandas as pd\n",
    "import os"
   ]
  },
  {
   "cell_type": "code",
   "execution_count": 123,
   "metadata": {},
   "outputs": [
    {
     "name": "stdout",
     "output_type": "stream",
     "text": [
      "[array([[nan, nan]]), array([[0., 0.]]), array([[1., 1.]]), array([[2., 2.]]), array([[3., 3.]]), array([[4., 4.]]), array([[5., 5.]]), array([[6., 6.]]), array([[7., 7.]]), array([[8., 8.]]), array([[9., 9.]]), array([], shape=(0, 2), dtype=float64), array([], shape=(0, 2), dtype=float64), array([], shape=(0, 2), dtype=float64), array([], shape=(0, 2), dtype=float64), array([], shape=(0, 2), dtype=float64), array([], shape=(0, 2), dtype=float64), array([], shape=(0, 2), dtype=float64), array([], shape=(0, 2), dtype=float64), array([], shape=(0, 2), dtype=float64)]\n"
     ]
    }
   ],
   "source": [
    "from numpy import genfromtxt\n",
    "data = genfromtxt('numberssimple.csv', delimiter=',')\n",
    "\n",
    "# Split the data into sets of 10 \n",
    "data = np.array_split(data, 20)\n",
    "print(data)\n"
   ]
  },
  {
   "cell_type": "code",
   "execution_count": 124,
   "metadata": {},
   "outputs": [
    {
     "data": {
      "image/png": "[encoded data removed]",
      "text/plain": [
       "<Figure size 640x480 with 1 Axes>"
      ]
     },
     "metadata": {},
     "output_type": "display_data"
    }
   ],
   "source": [
    "\n",
    "path = \"numberssimple.csv\"\n",
    "D = pd.read_csv(path)  \n",
    "\n",
    "#D = df[['theo_event_tx_timestamp','under']] \n",
    "feature = \"value\"\n",
    "dmin = D[feature].min() # maximum value of the data\n",
    "dmax = D[feature].max() # minimum value of the data\n",
    "drange = dmax - dmin   # data range\n",
    "\n",
    "data = D[feature].to_numpy()  # convert data to numpy array\n",
    "plt.hist(data,bins=50)  # plot the data as a histogram\n",
    "plt.show()"
   ]
  },
  {
   "cell_type": "code",
   "execution_count": 125,
   "metadata": {},
   "outputs": [],
   "source": [
    "#dmin = data.min() # maximum value of the data\n",
    "#dmax = data.max() # minimum value of the data\n",
    "#drange = dmax - dmin # data range\n",
    "# Fixing the max and min values of the data\n",
    "dmin = 0\n",
    "dmax = 9\n",
    "drange = dmax - dmin"
   ]
  },
  {
   "cell_type": "code",
   "execution_count": 126,
   "metadata": {},
   "outputs": [],
   "source": [
    "# function to convert data in the interval (vmin-epsilon,vmax+epsilon) into bitstring using 12-bit precision\n",
    "def data_to_bitstring(value,vmin,vmax,epsilon=0,precision=4):\n",
    "    int_value = int((value - vmin + epsilon)/((vmax-vmin)+2*epsilon)*(2**precision-1))\n",
    "    bitstring = format(int_value,'04b')\n",
    "    return bitstring\n",
    "\n",
    "# convert bitstring of length precision to a data point in the range (vmin-epsilon,vmax+epsilon)\n",
    "def bitstring_to_data(bitstring,vmin,vmax,epsilon=0):\n",
    "    precision = len(bitstring)\n",
    "    bitstring = bitstring[::-1]\n",
    "    vint = 0\n",
    "    for j in range(precision):\n",
    "        vint += int(bitstring[j])*(2**j)  # obtain integer representation from the bitstring\n",
    "    value = vmin - epsilon + vint/(2**precision-1)*(vmax - vmin + 2*epsilon) # bring into the range (vmin-epsilon,vmax+epsilon)\n",
    "    return value"
   ]
  },
  {
   "cell_type": "code",
   "execution_count": 127,
   "metadata": {},
   "outputs": [],
   "source": [
    "device = LocalSimulator()"
   ]
  },
  {
   "cell_type": "code",
   "execution_count": 128,
   "metadata": {},
   "outputs": [
    {
     "name": "stdout",
     "output_type": "stream",
     "text": [
      "T  : │      0      │      1      │  2  │     3     │      4      │      5      │      6      │     7     │  8  │      9      │     10      │\n",
      "      ┌───────────┐ ┌───────────┐             ┌───┐ ┌───────────┐ ┌───────────┐ ┌───────────┐ ┌───┐             ┌───────────┐ ┌───────────┐ \n",
      "q0 : ─┤ Rx(t_0_0) ├─┤ Rz(t_1_0) ├───●─────────┤ X ├─┤ Rz(t_2_0) ├─┤ Rx(t_3_0) ├─┤ Rz(t_4_0) ├─┤ X ├─────────●───┤ Rz(t_5_0) ├─┤ Rx(t_6_0) ├─\n",
      "      └───────────┘ └───────────┘   │         └─┬─┘ └───────────┘ └───────────┘ └───────────┘ └─┬─┘         │   └───────────┘ └───────────┘ \n",
      "      ┌───────────┐ ┌───────────┐ ┌─┴─┐         │   ┌───────────┐ ┌───────────┐ ┌───────────┐   │         ┌─┴─┐ ┌───────────┐ ┌───────────┐ \n",
      "q1 : ─┤ Rx(t_0_1) ├─┤ Rz(t_1_1) ├─┤ X ├───●─────┼───┤ Rz(t_2_1) ├─┤ Rx(t_3_1) ├─┤ Rz(t_4_1) ├───┼─────●───┤ X ├─┤ Rz(t_5_1) ├─┤ Rx(t_6_1) ├─\n",
      "      └───────────┘ └───────────┘ └───┘   │     │   └───────────┘ └───────────┘ └───────────┘   │     │   └───┘ └───────────┘ └───────────┘ \n",
      "      ┌───────────┐ ┌───────────┐       ┌─┴─┐   │   ┌───────────┐ ┌───────────┐ ┌───────────┐   │   ┌─┴─┐       ┌───────────┐ ┌───────────┐ \n",
      "q2 : ─┤ Rx(t_0_2) ├─┤ Rz(t_1_2) ├───●───┤ X ├───┼───┤ Rz(t_2_2) ├─┤ Rx(t_3_2) ├─┤ Rz(t_4_2) ├───┼───┤ X ├───●───┤ Rz(t_5_2) ├─┤ Rx(t_6_2) ├─\n",
      "      └───────────┘ └───────────┘   │   └───┘   │   └───────────┘ └───────────┘ └───────────┘   │   └───┘   │   └───────────┘ └───────────┘ \n",
      "      ┌───────────┐ ┌───────────┐ ┌─┴─┐         │   ┌───────────┐ ┌───────────┐ ┌───────────┐   │         ┌─┴─┐ ┌───────────┐ ┌───────────┐ \n",
      "q3 : ─┤ Rx(t_0_3) ├─┤ Rz(t_1_3) ├─┤ X ├───●─────┼───┤ Rz(t_2_3) ├─┤ Rx(t_3_3) ├─┤ Rz(t_4_3) ├───┼─────●───┤ X ├─┤ Rz(t_5_3) ├─┤ Rx(t_6_3) ├─\n",
      "      └───────────┘ └───────────┘ └───┘   │     │   └───────────┘ └───────────┘ └───────────┘   │     │   └───┘ └───────────┘ └───────────┘ \n",
      "      ┌───────────┐ ┌───────────┐       ┌─┴─┐   │   ┌───────────┐ ┌───────────┐ ┌───────────┐   │   ┌─┴─┐       ┌───────────┐ ┌───────────┐ \n",
      "q4 : ─┤ Rx(t_0_4) ├─┤ Rz(t_1_4) ├───●───┤ X ├───┼───┤ Rz(t_2_4) ├─┤ Rx(t_3_4) ├─┤ Rz(t_4_4) ├───┼───┤ X ├───●───┤ Rz(t_5_4) ├─┤ Rx(t_6_4) ├─\n",
      "      └───────────┘ └───────────┘   │   └───┘   │   └───────────┘ └───────────┘ └───────────┘   │   └───┘   │   └───────────┘ └───────────┘ \n",
      "      ┌───────────┐ ┌───────────┐ ┌─┴─┐         │   ┌───────────┐ ┌───────────┐ ┌───────────┐   │         ┌─┴─┐ ┌───────────┐ ┌───────────┐ \n",
      "q5 : ─┤ Rx(t_0_5) ├─┤ Rz(t_1_5) ├─┤ X ├─────────●───┤ Rz(t_2_5) ├─┤ Rx(t_3_5) ├─┤ Rz(t_4_5) ├───●─────────┤ X ├─┤ Rz(t_5_5) ├─┤ Rx(t_6_5) ├─\n",
      "      └───────────┘ └───────────┘ └───┘             └───────────┘ └───────────┘ └───────────┘             └───┘ └───────────┘ └───────────┘ \n",
      "T  : │      0      │      1      │  2  │     3     │      4      │      5      │      6      │     7     │  8  │      9      │     10      │\n",
      "\n",
      "Unassigned parameters: [t_0_0, t_0_1, t_0_2, t_0_3, t_0_4, t_0_5, t_1_0, t_1_1, t_1_2, t_1_3, t_1_4, t_1_5, t_2_0, t_2_1, t_2_2, t_2_3, t_2_4, t_2_5, t_3_0, t_3_1, t_3_2, t_3_3, t_3_4, t_3_5, t_4_0, t_4_1, t_4_2, t_4_3, t_4_4, t_4_5, t_5_0, t_5_1, t_5_2, t_5_3, t_5_4, t_5_5, t_6_0, t_6_1, t_6_2, t_6_3, t_6_4, t_6_5].\n"
     ]
    }
   ],
   "source": [
    "# Construct the PQC (parameterized quantum circuit) ansatz for the Quantum Circuit Born Machine (QCBM)\n",
    "qcbm = Circuit()\n",
    "wires = 6 # number of wires corresponding to the bit precision required for the data, here 12 bits\n",
    "depth = 7  # number of parametrised 1-qubit gate layers\n",
    "theta = [[FreeParameter(\"t_%s_%s\" % (l,q)) for q in range(wires)] for l in range(depth)]\n",
    "# free parameters (angles) are labelled t_i_j, where i is the layer of the circuit and j the wire\n",
    "\n",
    "for q in range(wires):\n",
    "    qcbm.rx(q,theta[0][q])  # layer of rx gates with unspecified parameters\n",
    "    qcbm.rz(q,theta[1][q])  # layer of rz gates with unspecified parameters\n",
    "\n",
    "for q in range(wires//2):       ## layer of interlinked cnot gates for entanglement\n",
    "    qcbm.cnot(control=2*q,target=(2*q+1)%wires)\n",
    "for q in range(wires//2):\n",
    "    qcbm.cnot(control=2*q+1,target=(2*(q+1))%wires)\n",
    "\n",
    "for q in range(wires):\n",
    "    qcbm.rz(q,theta[2][q]) # layer of rx gates with unspecified parameters\n",
    "    qcbm.rx(q,theta[3][q]) # layer of rz gates with unspecified parameters\n",
    "    qcbm.rz(q,theta[4][q]) # layer of rx gates with unspecified parameters\n",
    "\n",
    "for q in range(wires//2):       ## layer of interlinked cnot gates for entanglement\n",
    "    qcbm.cnot(control=wires-1-2*q,target=(wires-2*q)%wires)\n",
    "for q in range(wires//2):\n",
    "    qcbm.cnot(control=wires-2-2*q,target=wires-1-2*q)\n",
    "\n",
    "for q in range(wires):\n",
    "    qcbm.rz(q,theta[5][q])  # layer of rz gates with unspecified parameters\n",
    "    qcbm.rx(q,theta[6][q])  # layer of rx gates with unspecified parameters\n",
    "\n",
    "print(qcbm)"
   ]
  },
  {
   "cell_type": "code",
   "execution_count": 129,
   "metadata": {},
   "outputs": [],
   "source": [
    "# generate random angles in the range (-pi,pi) to initialize the parameters of the QCBM\n",
    "def random_thetas(m=7,dim=[6,7]):\n",
    "# generate a random array of dimension 'size' each parameter can take m discrete values between -pi and +pi\n",
    "    thetas = np.random.randint(2**m,size=dim)\n",
    "    thetas = np.pi/2**(m-1) * thetas\n",
    "    thetas -= np.pi\n",
    "    return thetas\n",
    "\n",
    "# Prepare dictionary from parameter values theta that can serve as input for the parameterized quantum circuit of the QCBM\n",
    "def thetas_to_dict(thetas):\n",
    "    wires, depth = thetas.shape\n",
    "    theta_dict = {}\n",
    "    for i in range(depth):\n",
    "        for j in range(wires):\n",
    "            t_str = 't_' + str(i) + '_' + str(j)\n",
    "            theta_dict[t_str] = thetas[j][i]\n",
    "    return theta_dict"
   ]
  },
  {
   "cell_type": "code",
   "execution_count": 130,
   "metadata": {},
   "outputs": [],
   "source": [
    "def draw_data_sample(data,K=100):  # draws K samples randomly from the original data\n",
    "    u = []                         # need these in the cost function to compare with the QCBM generated data below\n",
    "    rows = len(data)\n",
    "    for i in range(K):\n",
    "        index = np.random.randint(rows)  # pick a random row index of the date array\n",
    "        u.append(data[index])            # retrieve the data value at this index and append to u\n",
    "    return u"
   ]
  },
  {
   "cell_type": "code",
   "execution_count": 131,
   "metadata": {},
   "outputs": [],
   "source": [
    "def run_qcbm(Nthetas,vmin,vmax,epsilon=0,K=100): # samples K times from the QCBM for each set of parameters in Nthetas\n",
    "    Nv = []                                      # array to hold N sets of samples from K shots each\n",
    "    for thetas in Nthetas:\n",
    "        thetas_dict = thetas_to_dict(thetas)\n",
    "        task = device.run(qcbm,shots=K,inputs=thetas_dict)   # Here the quantum circuit is executed, incurring cost\n",
    "        result = task.result()                               # get results of the measurements\n",
    "        counts = result.measurement_counts                   # obtain bitstrings with their respective counts\n",
    "        v = []\n",
    "        for bitstring, count in counts.items():\n",
    "            value = bitstring_to_data(bitstring,vmin,vmax,epsilon=epsilon)  # convert bitstring to real valued data\n",
    "            for i in range(count):\n",
    "                v.append(value)                                             # append each data as many times as it was measured\n",
    "        Nv.append(v)\n",
    "    return Nv"
   ]
  },
  {
   "cell_type": "code",
   "execution_count": 132,
   "metadata": {},
   "outputs": [],
   "source": [
    "# cost function, defined as the sum of squared differences of K generated samples and samples drawn from the original data\n",
    "def cost(u,v):\n",
    "    K = len(u)\n",
    "    u_sorted = np.sort(u)    # sort data by value\n",
    "    v_sorted = np.sort(v)    # sort generated samples by value\n",
    "    squared_diff_sum = 0     # compute the sum of squared differences between the sorted samples\n",
    "    for i in range(K):\n",
    "        squared_diff_sum += (u_sorted[i]-v_sorted[i])**2  # add the squared difference for each data / sample pair\n",
    "    return squared_diff_sum  # return the sum of squared differences"
   ]
  },
  {
   "cell_type": "code",
   "execution_count": 133,
   "metadata": {},
   "outputs": [],
   "source": [
    "# To find good parameter values by running a genetic algorithm, this function performs one mutation step\n",
    "# Mutation works by creating D copies of each set of theta values in Mthetas and changing column entries with probability alpha\n",
    "# return a list Nthetas of N=M*D sets of parameter values\n",
    "def mutation(Mthetas,D,alpha,m=7):\n",
    "    Nthetas_new = []\n",
    "    for thetas in Mthetas:\n",
    "        wires, depth = thetas.shape\n",
    "        for d in range(D):            # for each set of theta values create D mutations, generating N = M*D mutations in total\n",
    "            theta_trans = thetas.copy().transpose()  # make a copy of the current theta values which is to be mutated\n",
    "            for i in range(depth):\n",
    "                if np.random.rand() < alpha:                                 # with probability alpha perform a mutation\n",
    "                    wire = np.random.randint(wires)                          # select a random wire\n",
    "                    angle = np.random.randint(2**m)*np.pi/(2**(m-1)) - np.pi # generate a random angle in (-pi,pi) in 2**m steps\n",
    "                    theta_trans[i][wire] = angle                             # replace angle in the chosen wire\n",
    "                    if np.random.rand() < alpha/2:                         # perform a second mutation with probability alpha/2\n",
    "                        wire = np.random.randint(wires)                          # select a random wire (could be same as above)\n",
    "                        angle = np.random.randint(2**m)*np.pi/(2**(m-1)) - np.pi # generate a random angle in (-pi,pi)\n",
    "                        theta_trans[i][wire] = angle                         # replace angle in the chosen wire\n",
    "            Nthetas_new.append(theta_trans.transpose())                      # append mutated theta values to parameter list\n",
    "    return Nthetas_new"
   ]
  },
  {
   "cell_type": "code",
   "execution_count": null,
   "metadata": {},
   "outputs": [],
   "source": [
    "# calculates the cost for all sets of theta values in Nthetas for the data by sampling the QCBM,\n",
    "# returning the thetas sorted by cost\n",
    "def thetas_by_cost(Nthetas,data,vmin,vmax,epsilon=0,K=100):\n",
    "    u = draw_data_sample(data,K)                           # draw samples from the original data to compare with generated data\n",
    "    Nv = run_qcbm(Nthetas,vmin,vmax,epsilon=epsilon,K=K)   # for each set of theta values, sample the QCBM K times\n",
    "    cost_vector = []\n",
    "    for v in Nv:                           # compute the cost function between the original data and each set of QCBM samples\n",
    "        cost_vector.append(cost(u,v))\n",
    "    cost_thetas = list(zip(cost_vector,Nthetas))\n",
    "    cost_thetas.sort()                     # sort the list by the value of the cost function\n",
    "    cost_sorted = [x for x,y in cost_thetas]\n",
    "    Nthetas_sorted = [y for x,y in cost_thetas]\n",
    "    return cost_sorted, Nthetas_sorted"
   ]
  },
  {
   "cell_type": "code",
   "execution_count": null,
   "metadata": {},
   "outputs": [
    {
     "name": "stdout",
     "output_type": "stream",
     "text": [
      "Generation 0, cost = 14.49186\n",
      "Generation 1, cost = 15.20194\n",
      "Generation 2, cost = 14.04607  improved!\n",
      "Generation 3, cost = 16.10043\n",
      "Generation 4, cost = 15.15853\n",
      "Generation 5, cost = 15.98020\n",
      "Generation 6, cost = 19.52611\n",
      "Generation 7, cost = 14.62885\n",
      "Generation 8, cost = 17.27765\n",
      "Generation 9, cost = 18.36839\n",
      "Generation 10, cost = 15.88069\n",
      "Generation 11, cost = 16.32653\n",
      "Generation 12, cost = 17.05790\n",
      "Generation 13, cost = 14.06122\n",
      "Generation 14, cost = 11.79725  improved!\n",
      "Generation 15, cost = 28.27111\n",
      "Generation 16, cost = 14.00182\n",
      "Generation 17, cost = 13.08103\n",
      "Generation 18, cost = 14.56005\n",
      "Generation 19, cost = 14.36144\n",
      "Generation 20, cost = 13.85805\n"
     ]
    }
   ],
   "source": [
    "def training():\n",
    "    # Train the parameters of the QCBM ansatz using a genetic algorithm\n",
    "    L = 2  # number of iterations (generations) for the genetic algorithm\n",
    "    M = 5  # number of best solutions in the given generation, chosen for further mutation\n",
    "    D = 40  # number of 'offspring' each solution (1..M) produces through mutation\n",
    "    N = D*M # number of solutions in each generation\n",
    "    alpha, beta = 1.0, 0.013863 # mutation parameters\n",
    "    kappa = 50 # number of generations after which mutation rate has decreased by a factor of 1/2\n",
    "    epsilon = 0.01   # amount by which generated data can lie outside the range of original data: (vmin - epsilon,vmax + epsilon)\n",
    "    #epsilon = 0\n",
    "\n",
    "    # initialize N sets of theta values with random angles\n",
    "\n",
    "    for i in range(N):\n",
    "        Nthetas.append(random_thetas())\n",
    "\n",
    "    # compute the cost for samples obtained from the QCBM and record the minimum\n",
    "    cost_sorted, Nthetas_sorted = thetas_by_cost(Nthetas,data,dmin,dmax,epsilon=epsilon)\n",
    "    print('Generation 0, cost = %.5f' % cost_sorted[0])\n",
    "    cost_min = [cost_sorted[0]]\n",
    "\n",
    "    # now run the genetic algorithm over L generations\n",
    "    for gen in range(L):\n",
    "        alpha *= np.exp(-beta)                # mutation probability alpha decreased exponentially (factor 1/2 for 50 generations)\n",
    "        Mthetas = Nthetas_sorted[:M]          # keep only the best M sets of theta values\n",
    "        Nthetas_new = mutation(Mthetas,D,alpha)\n",
    "        cost_new, thetas_new = thetas_by_cost(Nthetas_new,data,dmin,dmax,epsilon=epsilon)\n",
    "        message = 'Generation %i, cost = %.5f' % (gen+1, cost_new[0])\n",
    "        if cost_new[0] < cost_min[-1]:        # if minimum cost of new parameters is less than previous minimum, keep them\n",
    "            cost_min.append(cost_new[0])\n",
    "            Nthetas_sorted = thetas_new\n",
    "            print(message + '  improved!')    # print that parameters have improved\n",
    "        else:\n",
    "            print(message)\n",
    "\n",
    "    return Nthetas_sorted"
   ]
  },
  {
   "cell_type": "code",
   "execution_count": null,
   "metadata": {},
   "outputs": [],
   "source": [
    "thetas_opt = training()[0]  # record the best values of theta parameters obtained from the genetic algorithm\n",
    "np.savetxt(\"thetas_opt.csv\",thetas_opt,delimiter=\",\") "
   ]
  },
  {
   "cell_type": "code",
   "execution_count": 137,
   "metadata": {},
   "outputs": [
    {
     "name": "stdout",
     "output_type": "stream",
     "text": [
      "[5.43063492 2.42396825 3.85571429 0.56269841 0.56269841 7.00555556\n",
      " 8.43730159 4.85793651 7.57825397 1.85126984]\n",
      "[1.85126984 7.57825397 4.85793651 8.43730159 7.00555556 0.56269841\n",
      " 0.56269841 3.85571429 2.42396825 5.43063492]\n"
     ]
    },
    {
     "data": {
      "image/png": "[encoded data removed]",
      "text/plain": [
       "<Figure size 640x480 with 1 Axes>"
      ]
     },
     "metadata": {},
     "output_type": "display_data"
    }
   ],
   "source": [
    "# create a QQ (quantile-quantile) plot of the two distributions (DAX log-returns and QCBM generated data)\n",
    "# once a good set of theta parameters has been obtained and saved in \"thetas_opt.csv\", this section can be executed on its own\n",
    "import numpy as np\n",
    "import statsmodels.api as sm\n",
    "import matplotlib.pyplot as plt\n",
    "from statsmodels.graphics.gofplots import qqplot_2samples\n",
    "\n",
    "thetas_opt = np.genfromtxt(\"thetas_opt.csv\",delimiter=\",\") # load good theta parameters previously obtained to avoid\n",
    "                                                         # having to run the training algorithm again\n",
    "device = LocalSimulator()    # use simulator, below we will use actual quantum hardware\n",
    "samples = np.array(run_qcbm([thetas_opt],dmin,dmax,epsilon=0.01 ,K=len(data))[0])\n",
    "\n",
    "samples = samples[:100000]\n",
    "print(samples)\n",
    "\n",
    "\n",
    "#save samples to csv\n",
    "np.savetxt(\"samples.csv\",samples,delimiter=\",\")  # save good parameters to a csv file (only execute to override previous)\n",
    "\n",
    "print(samples[::-1])\n",
    "pp_x = sm.ProbPlot(data)  # probability plot of x-data\n",
    "pp_y = sm.ProbPlot(samples)  # probabilily plot of y-data\n",
    "qqplot_2samples(pp_x, pp_y,xlabel=feature,ylabel='QCBM samples')  # plot the two sets against one another\n",
    "plt.show()"
   ]
  },
  {
   "cell_type": "code",
   "execution_count": 138,
   "metadata": {},
   "outputs": [
    {
     "data": {
      "text/plain": [
       "(array([2., 0., 0., 0., 0., 0., 0., 0., 0., 0., 0., 0., 0., 0., 0., 0., 0.,\n",
       "        0., 0., 0., 0., 0., 0., 0., 0., 0., 0., 0., 0., 0., 0., 0., 0., 0.,\n",
       "        0., 0., 0., 0., 0., 0., 0., 0., 0., 0., 0., 0., 0., 0., 0., 0., 0.,\n",
       "        0., 0., 0., 0., 0., 0., 0., 0., 0., 0., 0., 0., 0., 0., 0., 0., 0.,\n",
       "        0., 0., 0., 0., 0., 0., 0., 0., 0., 0., 0., 0., 0., 0., 0., 0., 0.,\n",
       "        0., 0., 0., 0., 0., 0., 0., 0., 0., 0., 0., 0., 0., 1., 0., 0., 0.,\n",
       "        0., 0., 0., 0., 0., 0., 0., 0., 0., 0., 0., 0., 0., 0., 0., 0., 0.,\n",
       "        0., 0., 0., 0., 0., 0., 0., 0., 0., 0., 0., 0., 0., 0., 0., 0., 0.,\n",
       "        0., 0., 0., 0., 0., 1., 0., 0., 0., 0., 0., 0., 0., 0., 0., 0., 0.,\n",
       "        0., 0., 0., 0., 0., 0., 0., 0., 0., 0., 0., 0., 0., 0., 0., 0., 0.,\n",
       "        0., 0., 0., 0., 0., 0., 0., 0., 0., 0., 0., 0., 0., 0., 0., 0., 0.,\n",
       "        0., 0., 0., 0., 0., 0., 0., 0., 0., 0., 0., 0., 0., 0., 0., 0., 0.,\n",
       "        0., 0., 0., 0., 0., 0., 0., 0., 0., 0., 0., 0., 0., 0., 0., 0., 0.,\n",
       "        0., 0., 0., 0., 0., 0., 0., 0., 0., 0., 0., 0., 0., 0., 0., 0., 0.,\n",
       "        0., 0., 0., 0., 0., 0., 0., 0., 0., 0., 0., 0., 1., 0., 0., 0., 0.,\n",
       "        0., 0., 0., 0., 0., 0., 0., 0., 0., 0., 0., 0., 0., 0., 0., 0., 0.,\n",
       "        0., 0., 0., 0., 0., 0., 0., 0., 0., 0., 0., 0., 0., 0., 0., 0., 0.,\n",
       "        0., 0., 0., 0., 0., 0., 0., 0., 0., 0., 0., 0., 0., 0., 0., 0., 0.,\n",
       "        0., 0., 0., 0., 0., 0., 0., 0., 0., 0., 0., 0., 0., 0., 0., 0., 0.,\n",
       "        0., 0., 0., 0., 1., 0., 0., 0., 0., 0., 0., 0., 0., 0., 0., 0., 0.,\n",
       "        0., 0., 0., 0., 0., 0., 0., 0., 0., 0., 0., 0., 0., 0., 0., 0., 0.,\n",
       "        0., 0., 0., 0., 0., 0., 0., 0., 0., 0., 0., 0., 0., 1., 0., 0., 0.,\n",
       "        0., 0., 0., 0., 0., 0., 0., 0., 0., 0., 0., 0., 0., 0., 0., 0., 0.,\n",
       "        0., 0., 0., 0., 0., 0., 0., 0., 0., 0., 0., 0., 0., 0., 0., 0., 0.,\n",
       "        0., 0., 0., 0., 0., 0., 0., 0., 0., 0., 0., 0., 0., 0., 0., 0., 0.,\n",
       "        0., 0., 0., 0., 0., 0., 0., 0., 0., 0., 0., 0., 0., 0., 0., 0., 0.,\n",
       "        0., 0., 0., 0., 0., 0., 0., 0., 0., 0., 0., 0., 0., 0., 0., 0., 0.,\n",
       "        0., 0., 0., 0., 0., 0., 0., 0., 0., 0., 0., 0., 0., 0., 0., 0., 0.,\n",
       "        0., 0., 0., 0., 0., 0., 0., 0., 0., 0., 0., 0., 0., 0., 1., 0., 0.,\n",
       "        0., 0., 0., 0., 0., 0., 0., 0., 0., 0., 0., 0., 0., 0., 0., 0., 0.,\n",
       "        0., 0., 0., 0., 0., 0., 0., 0., 0., 0., 0., 0., 0., 0., 0., 0., 0.,\n",
       "        0., 0., 0., 0., 0., 0., 0., 1., 0., 0., 0., 0., 0., 0., 0., 0., 0.,\n",
       "        0., 0., 0., 0., 0., 0., 0., 0., 0., 0., 0., 0., 0., 0., 0., 0., 0.,\n",
       "        0., 0., 0., 0., 0., 0., 0., 0., 0., 0., 0., 0., 0., 0., 0., 0., 0.,\n",
       "        0., 0., 0., 0., 0., 0., 0., 0., 0., 0., 0., 0., 0., 0., 0., 0., 0.,\n",
       "        0., 0., 0., 0., 1.]),\n",
       " array([0.56269841, 0.57582275, 0.58894709, 0.60207143, 0.61519577,\n",
       "        0.62832011, 0.64144444, 0.65456878, 0.66769312, 0.68081746,\n",
       "        0.6939418 , 0.70706614, 0.72019048, 0.73331481, 0.74643915,\n",
       "        0.75956349, 0.77268783, 0.78581217, 0.79893651, 0.81206085,\n",
       "        0.82518519, 0.83830952, 0.85143386, 0.8645582 , 0.87768254,\n",
       "        0.89080688, 0.90393122, 0.91705556, 0.93017989, 0.94330423,\n",
       "        0.95642857, 0.96955291, 0.98267725, 0.99580159, 1.00892593,\n",
       "        1.02205026, 1.0351746 , 1.04829894, 1.06142328, 1.07454762,\n",
       "        1.08767196, 1.1007963 , 1.11392063, 1.12704497, 1.14016931,\n",
       "        1.15329365, 1.16641799, 1.17954233, 1.19266667, 1.20579101,\n",
       "        1.21891534, 1.23203968, 1.24516402, 1.25828836, 1.2714127 ,\n",
       "        1.28453704, 1.29766138, 1.31078571, 1.32391005, 1.33703439,\n",
       "        1.35015873, 1.36328307, 1.37640741, 1.38953175, 1.40265608,\n",
       "        1.41578042, 1.42890476, 1.4420291 , 1.45515344, 1.46827778,\n",
       "        1.48140212, 1.49452646, 1.50765079, 1.52077513, 1.53389947,\n",
       "        1.54702381, 1.56014815, 1.57327249, 1.58639683, 1.59952116,\n",
       "        1.6126455 , 1.62576984, 1.63889418, 1.65201852, 1.66514286,\n",
       "        1.6782672 , 1.69139153, 1.70451587, 1.71764021, 1.73076455,\n",
       "        1.74388889, 1.75701323, 1.77013757, 1.7832619 , 1.79638624,\n",
       "        1.80951058, 1.82263492, 1.83575926, 1.8488836 , 1.86200794,\n",
       "        1.87513228, 1.88825661, 1.90138095, 1.91450529, 1.92762963,\n",
       "        1.94075397, 1.95387831, 1.96700265, 1.98012698, 1.99325132,\n",
       "        2.00637566, 2.0195    , 2.03262434, 2.04574868, 2.05887302,\n",
       "        2.07199735, 2.08512169, 2.09824603, 2.11137037, 2.12449471,\n",
       "        2.13761905, 2.15074339, 2.16386772, 2.17699206, 2.1901164 ,\n",
       "        2.20324074, 2.21636508, 2.22948942, 2.24261376, 2.2557381 ,\n",
       "        2.26886243, 2.28198677, 2.29511111, 2.30823545, 2.32135979,\n",
       "        2.33448413, 2.34760847, 2.3607328 , 2.37385714, 2.38698148,\n",
       "        2.40010582, 2.41323016, 2.4263545 , 2.43947884, 2.45260317,\n",
       "        2.46572751, 2.47885185, 2.49197619, 2.50510053, 2.51822487,\n",
       "        2.53134921, 2.54447354, 2.55759788, 2.57072222, 2.58384656,\n",
       "        2.5969709 , 2.61009524, 2.62321958, 2.63634392, 2.64946825,\n",
       "        2.66259259, 2.67571693, 2.68884127, 2.70196561, 2.71508995,\n",
       "        2.72821429, 2.74133862, 2.75446296, 2.7675873 , 2.78071164,\n",
       "        2.79383598, 2.80696032, 2.82008466, 2.83320899, 2.84633333,\n",
       "        2.85945767, 2.87258201, 2.88570635, 2.89883069, 2.91195503,\n",
       "        2.92507937, 2.9382037 , 2.95132804, 2.96445238, 2.97757672,\n",
       "        2.99070106, 3.0038254 , 3.01694974, 3.03007407, 3.04319841,\n",
       "        3.05632275, 3.06944709, 3.08257143, 3.09569577, 3.10882011,\n",
       "        3.12194444, 3.13506878, 3.14819312, 3.16131746, 3.1744418 ,\n",
       "        3.18756614, 3.20069048, 3.21381481, 3.22693915, 3.24006349,\n",
       "        3.25318783, 3.26631217, 3.27943651, 3.29256085, 3.30568519,\n",
       "        3.31880952, 3.33193386, 3.3450582 , 3.35818254, 3.37130688,\n",
       "        3.38443122, 3.39755556, 3.41067989, 3.42380423, 3.43692857,\n",
       "        3.45005291, 3.46317725, 3.47630159, 3.48942593, 3.50255026,\n",
       "        3.5156746 , 3.52879894, 3.54192328, 3.55504762, 3.56817196,\n",
       "        3.5812963 , 3.59442063, 3.60754497, 3.62066931, 3.63379365,\n",
       "        3.64691799, 3.66004233, 3.67316667, 3.68629101, 3.69941534,\n",
       "        3.71253968, 3.72566402, 3.73878836, 3.7519127 , 3.76503704,\n",
       "        3.77816138, 3.79128571, 3.80441005, 3.81753439, 3.83065873,\n",
       "        3.84378307, 3.85690741, 3.87003175, 3.88315608, 3.89628042,\n",
       "        3.90940476, 3.9225291 , 3.93565344, 3.94877778, 3.96190212,\n",
       "        3.97502646, 3.98815079, 4.00127513, 4.01439947, 4.02752381,\n",
       "        4.04064815, 4.05377249, 4.06689683, 4.08002116, 4.0931455 ,\n",
       "        4.10626984, 4.11939418, 4.13251852, 4.14564286, 4.1587672 ,\n",
       "        4.17189153, 4.18501587, 4.19814021, 4.21126455, 4.22438889,\n",
       "        4.23751323, 4.25063757, 4.2637619 , 4.27688624, 4.29001058,\n",
       "        4.30313492, 4.31625926, 4.3293836 , 4.34250794, 4.35563228,\n",
       "        4.36875661, 4.38188095, 4.39500529, 4.40812963, 4.42125397,\n",
       "        4.43437831, 4.44750265, 4.46062698, 4.47375132, 4.48687566,\n",
       "        4.5       , 4.51312434, 4.52624868, 4.53937302, 4.55249735,\n",
       "        4.56562169, 4.57874603, 4.59187037, 4.60499471, 4.61811905,\n",
       "        4.63124339, 4.64436772, 4.65749206, 4.6706164 , 4.68374074,\n",
       "        4.69686508, 4.70998942, 4.72311376, 4.7362381 , 4.74936243,\n",
       "        4.76248677, 4.77561111, 4.78873545, 4.80185979, 4.81498413,\n",
       "        4.82810847, 4.8412328 , 4.85435714, 4.86748148, 4.88060582,\n",
       "        4.89373016, 4.9068545 , 4.91997884, 4.93310317, 4.94622751,\n",
       "        4.95935185, 4.97247619, 4.98560053, 4.99872487, 5.01184921,\n",
       "        5.02497354, 5.03809788, 5.05122222, 5.06434656, 5.0774709 ,\n",
       "        5.09059524, 5.10371958, 5.11684392, 5.12996825, 5.14309259,\n",
       "        5.15621693, 5.16934127, 5.18246561, 5.19558995, 5.20871429,\n",
       "        5.22183862, 5.23496296, 5.2480873 , 5.26121164, 5.27433598,\n",
       "        5.28746032, 5.30058466, 5.31370899, 5.32683333, 5.33995767,\n",
       "        5.35308201, 5.36620635, 5.37933069, 5.39245503, 5.40557937,\n",
       "        5.4187037 , 5.43182804, 5.44495238, 5.45807672, 5.47120106,\n",
       "        5.4843254 , 5.49744974, 5.51057407, 5.52369841, 5.53682275,\n",
       "        5.54994709, 5.56307143, 5.57619577, 5.58932011, 5.60244444,\n",
       "        5.61556878, 5.62869312, 5.64181746, 5.6549418 , 5.66806614,\n",
       "        5.68119048, 5.69431481, 5.70743915, 5.72056349, 5.73368783,\n",
       "        5.74681217, 5.75993651, 5.77306085, 5.78618519, 5.79930952,\n",
       "        5.81243386, 5.8255582 , 5.83868254, 5.85180688, 5.86493122,\n",
       "        5.87805556, 5.89117989, 5.90430423, 5.91742857, 5.93055291,\n",
       "        5.94367725, 5.95680159, 5.96992593, 5.98305026, 5.9961746 ,\n",
       "        6.00929894, 6.02242328, 6.03554762, 6.04867196, 6.0617963 ,\n",
       "        6.07492063, 6.08804497, 6.10116931, 6.11429365, 6.12741799,\n",
       "        6.14054233, 6.15366667, 6.16679101, 6.17991534, 6.19303968,\n",
       "        6.20616402, 6.21928836, 6.2324127 , 6.24553704, 6.25866138,\n",
       "        6.27178571, 6.28491005, 6.29803439, 6.31115873, 6.32428307,\n",
       "        6.33740741, 6.35053175, 6.36365608, 6.37678042, 6.38990476,\n",
       "        6.4030291 , 6.41615344, 6.42927778, 6.44240212, 6.45552646,\n",
       "        6.46865079, 6.48177513, 6.49489947, 6.50802381, 6.52114815,\n",
       "        6.53427249, 6.54739683, 6.56052116, 6.5736455 , 6.58676984,\n",
       "        6.59989418, 6.61301852, 6.62614286, 6.6392672 , 6.65239153,\n",
       "        6.66551587, 6.67864021, 6.69176455, 6.70488889, 6.71801323,\n",
       "        6.73113757, 6.7442619 , 6.75738624, 6.77051058, 6.78363492,\n",
       "        6.79675926, 6.8098836 , 6.82300794, 6.83613228, 6.84925661,\n",
       "        6.86238095, 6.87550529, 6.88862963, 6.90175397, 6.91487831,\n",
       "        6.92800265, 6.94112698, 6.95425132, 6.96737566, 6.9805    ,\n",
       "        6.99362434, 7.00674868, 7.01987302, 7.03299735, 7.04612169,\n",
       "        7.05924603, 7.07237037, 7.08549471, 7.09861905, 7.11174339,\n",
       "        7.12486772, 7.13799206, 7.1511164 , 7.16424074, 7.17736508,\n",
       "        7.19048942, 7.20361376, 7.2167381 , 7.22986243, 7.24298677,\n",
       "        7.25611111, 7.26923545, 7.28235979, 7.29548413, 7.30860847,\n",
       "        7.3217328 , 7.33485714, 7.34798148, 7.36110582, 7.37423016,\n",
       "        7.3873545 , 7.40047884, 7.41360317, 7.42672751, 7.43985185,\n",
       "        7.45297619, 7.46610053, 7.47922487, 7.49234921, 7.50547354,\n",
       "        7.51859788, 7.53172222, 7.54484656, 7.5579709 , 7.57109524,\n",
       "        7.58421958, 7.59734392, 7.61046825, 7.62359259, 7.63671693,\n",
       "        7.64984127, 7.66296561, 7.67608995, 7.68921429, 7.70233862,\n",
       "        7.71546296, 7.7285873 , 7.74171164, 7.75483598, 7.76796032,\n",
       "        7.78108466, 7.79420899, 7.80733333, 7.82045767, 7.83358201,\n",
       "        7.84670635, 7.85983069, 7.87295503, 7.88607937, 7.8992037 ,\n",
       "        7.91232804, 7.92545238, 7.93857672, 7.95170106, 7.9648254 ,\n",
       "        7.97794974, 7.99107407, 8.00419841, 8.01732275, 8.03044709,\n",
       "        8.04357143, 8.05669577, 8.06982011, 8.08294444, 8.09606878,\n",
       "        8.10919312, 8.12231746, 8.1354418 , 8.14856614, 8.16169048,\n",
       "        8.17481481, 8.18793915, 8.20106349, 8.21418783, 8.22731217,\n",
       "        8.24043651, 8.25356085, 8.26668519, 8.27980952, 8.29293386,\n",
       "        8.3060582 , 8.31918254, 8.33230688, 8.34543122, 8.35855556,\n",
       "        8.37167989, 8.38480423, 8.39792857, 8.41105291, 8.42417725,\n",
       "        8.43730159]),\n",
       " <BarContainer object of 600 artists>)"
      ]
     },
     "execution_count": 138,
     "metadata": {},
     "output_type": "execute_result"
    },
    {
     "data": {
      "image/png": "[encoded data removed]",
      "text/plain": [
       "<Figure size 640x480 with 1 Axes>"
      ]
     },
     "metadata": {},
     "output_type": "display_data"
    }
   ],
   "source": [
    "plt.hist(samples,bins=600)"
   ]
  },
  {
   "cell_type": "code",
   "execution_count": 139,
   "metadata": {},
   "outputs": [
    {
     "data": {
      "image/png": "[encoded data removed]",
      "text/plain": [
       "<Figure size 640x480 with 1 Axes>"
      ]
     },
     "metadata": {},
     "output_type": "display_data"
    }
   ],
   "source": [
    "\n",
    "data = data/data.max()\n",
    "samples = samples/samples.max()\n",
    "\n",
    "plt.plot(data)\n",
    "plt.plot(samples)\n",
    "plt.show()"
   ]
  }
 ],
 "metadata": {
  "kernelspec": {
   "display_name": "base",
   "language": "python",
   "name": "python3"
  },
  "language_info": {
   "codemirror_mode": {
    "name": "ipython",
    "version": 3
   },
   "file_extension": ".py",
   "mimetype": "text/x-python",
   "name": "python",
   "nbconvert_exporter": "python",
   "pygments_lexer": "ipython3",
   "version": "3.12.4"
  }
 },
 "nbformat": 4,
 "nbformat_minor": 2
}
